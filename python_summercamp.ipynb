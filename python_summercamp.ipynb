{
  "cells": [
    {
      "cell_type": "code",
      "execution_count": null,
      "metadata": {
        "id": "Sq6N8YS_ZUi7"
      },
      "outputs": [],
      "source": [
        "print(\"Hello World!\")\n",
        "print(\"Welcome to python\")"
      ]
    },
    {
      "cell_type": "markdown",
      "metadata": {
        "id": "fojfJMLyZ0b_"
      },
      "source": [
        "\n",
        "#Values\n",
        "\n",
        "#number \n",
        " 1 --> Int \\\n",
        "3.5 --> Float \\\n",
        "\n",
        "#character\n",
        "\"a\" --> Char \\\n",
        "\"learning python\" -->  String\n",
        "\n",
        "#Boolean\n",
        "**True** \\\n",
        "**False**\n",
        "\n"
      ]
    },
    {
      "cell_type": "code",
      "execution_count": null,
      "metadata": {
        "id": "7rdt9hUDrrlB",
        "colab": {
          "base_uri": "https://localhost:8080/"
        },
        "outputId": "094ca325-4860-4ab3-ed9b-9f710053b476"
      },
      "outputs": [
        {
          "output_type": "stream",
          "name": "stdout",
          "text": [
            "10\n",
            "True\n",
            "Ali\n",
            "<class 'int'>\n",
            "<class 'bool'>\n",
            "<class 'float'>\n",
            "<class 'str'>\n"
          ]
        }
      ],
      "source": [
        "print(10)\n",
        "print(True)\n",
        "print(\"Ali\")\n",
        "\n",
        "print(type(10))\n",
        "print(type(False))\n",
        "print(type(10.0))\n",
        "print(type(\"Hi\"))"
      ]
    },
    {
      "cell_type": "markdown",
      "metadata": {
        "id": "LDT9OfBJrmZu"
      },
      "source": [
        "#Variables\n",
        "\n",
        "`varname = value`\n",
        "\n",
        "**=** is **assign** in programming"
      ]
    },
    {
      "cell_type": "code",
      "execution_count": null,
      "metadata": {
        "id": "lF-2z95waYUg",
        "colab": {
          "base_uri": "https://localhost:8080/"
        },
        "outputId": "de06ae5e-64fd-4386-cede-bbd2d7daa5b8"
      },
      "outputs": [
        {
          "output_type": "stream",
          "name": "stdout",
          "text": [
            "14\n",
            "15\n",
            "ali\n",
            "True\n"
          ]
        }
      ],
      "source": [
        "number = 14\n",
        "print(number)\n",
        "number = number + 1\n",
        "print(number)\n",
        "number = 'ali'\n",
        "print(number)\n",
        "number = True\n",
        "print(number)"
      ]
    },
    {
      "cell_type": "markdown",
      "metadata": {
        "id": "3SRjL2pFdeh9"
      },
      "source": [
        "\n",
        "#Operator\n",
        "\n",
        "<ul>\n",
        "<li>+</li>\n",
        "<li>-</li>\n",
        "<li>/</li>\n",
        "<li>*</li>\n",
        "<li>**</li>\n",
        "<li>//</li>\n",
        "<li>%</li>\n",
        "</ul>\n",
        "\n",
        "\n",
        "\n"
      ]
    },
    {
      "cell_type": "code",
      "execution_count": null,
      "metadata": {
        "id": "czuy6w69ed0B",
        "colab": {
          "base_uri": "https://localhost:8080/"
        },
        "outputId": "7752ab06-b1b4-464b-95fa-580fc39c6c18"
      },
      "outputs": [
        {
          "output_type": "stream",
          "name": "stdout",
          "text": [
            "11+2  : 13\n",
            "11-2  : 9\n",
            "11/2  : 5.5\n",
            "11*2  : 22\n",
            "11**2 : 121\n",
            "11//2 : 5\n",
            "11%2  : 1\n"
          ]
        }
      ],
      "source": [
        "print(\"11+2  :\" , 11+2)\n",
        "print(\"11-2  :\" , 11-2)\n",
        "print(\"11/2  :\" , 11/2)\n",
        "print(\"11*2  :\" , 11*2)\n",
        "print(\"11**2 :\" , 11**2)\n",
        "print(\"11//2 :\" , 11//2)\n",
        "print(\"11%2  :\" , 11%2)"
      ]
    },
    {
      "cell_type": "code",
      "execution_count": null,
      "metadata": {
        "id": "5v29YdqRfIlL",
        "colab": {
          "base_uri": "https://localhost:8080/"
        },
        "outputId": "7c91f166-e836-4165-f6c1-a958c2653d57"
      },
      "outputs": [
        {
          "output_type": "stream",
          "name": "stdout",
          "text": [
            "1\n"
          ]
        }
      ],
      "source": [
        "number = 7\n",
        "number = (number*4) % 3\n",
        "print(number)"
      ]
    },
    {
      "cell_type": "markdown",
      "metadata": {
        "id": "Ccbpj1DMsCi5"
      },
      "source": [
        "**Boolean Operators**\n",
        "<ul type='circle'>\n",
        "<li>and</li>\n",
        "<li>or</li>\n",
        "<li>not</li>\n",
        "</ul>"
      ]
    },
    {
      "cell_type": "code",
      "execution_count": null,
      "metadata": {
        "id": "FwXYVPgTfRNe"
      },
      "outputs": [],
      "source": [
        "print(True and True)\n",
        "print(True and False)\n",
        "print(False and True)\n",
        "print(False and False)"
      ]
    },
    {
      "cell_type": "code",
      "execution_count": null,
      "metadata": {
        "id": "BtpZsATUfchN",
        "colab": {
          "base_uri": "https://localhost:8080/"
        },
        "outputId": "166b041e-7bdd-4908-91ae-a756bebed74e"
      },
      "outputs": [
        {
          "output_type": "stream",
          "name": "stdout",
          "text": [
            "True\n",
            "True\n",
            "True\n",
            "False\n"
          ]
        }
      ],
      "source": [
        "print(True or True)\n",
        "print(True or False) \n",
        "print(False or True)\n",
        "print(False or False)"
      ]
    },
    {
      "cell_type": "code",
      "execution_count": null,
      "metadata": {
        "id": "5faqKzL2tRSr",
        "colab": {
          "base_uri": "https://localhost:8080/"
        },
        "outputId": "5073866a-e64c-456b-8831-bb2cc2a61018"
      },
      "outputs": [
        {
          "output_type": "stream",
          "name": "stdout",
          "text": [
            "False\n",
            "True\n"
          ]
        }
      ],
      "source": [
        "print(not True)\n",
        "print(not False)"
      ]
    },
    {
      "cell_type": "code",
      "execution_count": null,
      "metadata": {
        "colab": {
          "base_uri": "https://localhost:8080/"
        },
        "id": "Jw7H7kDufyw_",
        "outputId": "0d602e1e-49c5-425d-aa67-92b43656fe61"
      },
      "outputs": [
        {
          "output_type": "stream",
          "name": "stdout",
          "text": [
            "False\n"
          ]
        }
      ],
      "source": [
        "number = 3 \n",
        "number += 1\n",
        "isequal = number == 3\n",
        "print(isequal)"
      ]
    },
    {
      "cell_type": "markdown",
      "metadata": {
        "id": "rKW067h8sCx9"
      },
      "source": [
        "***Compensators***\n",
        "<ul type='square'>\n",
        "<li>></li>\n",
        "<li><=</li>\n",
        "<li>==</li>\n",
        "<li>!=</li>\n",
        "</ul>"
      ]
    },
    {
      "cell_type": "code",
      "execution_count": null,
      "metadata": {
        "id": "TKhAZCI_f75l",
        "colab": {
          "base_uri": "https://localhost:8080/"
        },
        "outputId": "807e41bc-4e6e-47ef-a551-a4581a960bad"
      },
      "outputs": [
        {
          "output_type": "stream",
          "name": "stdout",
          "text": [
            "True\n",
            "True\n",
            "True\n"
          ]
        }
      ],
      "source": [
        "number = 3 \n",
        "print(number == 3)\n",
        "print(number > 1 )\n",
        "print(number != 2 )"
      ]
    },
    {
      "cell_type": "code",
      "source": [
        "num1 = 10\n",
        "num2 = 20 \n",
        "num3 = 14 \n",
        "\n",
        "sum = num1 + num2 + num3 \n",
        "mean = sum / 3\n",
        "\n",
        "print(\"sum: \" , sum )\n",
        "print(\"mean: \" , mean )"
      ],
      "metadata": {
        "id": "YEr4FzvV1Glf"
      },
      "execution_count": null,
      "outputs": []
    },
    {
      "cell_type": "markdown",
      "source": [
        "# Assignment \n",
        "Find distance between two given points $(x_0,y_0)$ and $(x_1,y_1)$ :\n",
        "\n",
        "$ d = \\sqrt{(x_1 - x_0)^2 + (y_1 - y_0)^2}$"
      ],
      "metadata": {
        "id": "241TGbe--0sk"
      }
    },
    {
      "cell_type": "code",
      "source": [
        "x0 = 3\n",
        "y0 = 0 \n",
        "\n",
        "x1 = 0\n",
        "y1 = 4\n",
        "\n",
        "d = ( (x1-x0)**2 + (y1-y0)**2 )**(0.5)\n",
        "print(\"Distance is : \" , d )"
      ],
      "metadata": {
        "id": "3rXPhRQbXVFU",
        "colab": {
          "base_uri": "https://localhost:8080/"
        },
        "outputId": "30473720-229d-44c0-eb8a-72897b9d7daf"
      },
      "execution_count": null,
      "outputs": [
        {
          "output_type": "stream",
          "name": "stdout",
          "text": [
            "Distance is :  5.0\n"
          ]
        }
      ]
    },
    {
      "cell_type": "code",
      "source": [
        "x0 = int(input('please enter a num'))\n",
        "print(ord('s'))\n",
        "print(x0+2)"
      ],
      "metadata": {
        "colab": {
          "base_uri": "https://localhost:8080/"
        },
        "id": "pJ6f7xFD_ils",
        "outputId": "60081e3f-ad0a-481f-d76d-b9655d6fe2bf"
      },
      "execution_count": null,
      "outputs": [
        {
          "output_type": "stream",
          "name": "stdout",
          "text": [
            "please enter a num2\n",
            "115\n",
            "4\n"
          ]
        }
      ]
    },
    {
      "cell_type": "markdown",
      "source": [
        "**Conditions**\n",
        "\n",
        "`if - else if - else `\n"
      ],
      "metadata": {
        "id": "SCFz2S3FByic"
      }
    },
    {
      "cell_type": "code",
      "source": [
        "if False:\n",
        "  print(\"First IF is True - 1\")\n",
        "elif False:\n",
        "  print(\"First elif is True - 2\")\n",
        "elif False:\n",
        "  print(\"Second elif is True - 3 \")\n",
        "else:\n",
        "  print(\"else is executed! - 4\")\n",
        "\n"
      ],
      "metadata": {
        "id": "x6Xc9IN6CgeU",
        "colab": {
          "base_uri": "https://localhost:8080/"
        },
        "outputId": "0d09b7f9-db19-4a34-ef0f-476b2e3406b6"
      },
      "execution_count": null,
      "outputs": [
        {
          "output_type": "stream",
          "name": "stdout",
          "text": [
            "else is executed! - 4\n"
          ]
        }
      ]
    },
    {
      "cell_type": "code",
      "source": [
        "name = \"ali\"\n",
        "age = -20\n",
        "\n",
        "if age < 0:\n",
        "  print(\"not a valid age!\")\n",
        "elif age < 10:\n",
        "  print(name , \"is a child\")\n",
        "elif age < 30:\n",
        "  print(name , \"is young\")\n",
        "elif age < 50:\n",
        "  print(name , \"is middle aged\")\n",
        "else:\n",
        "  print(name , \"is old\")"
      ],
      "metadata": {
        "id": "wf3oxzpqMF-4",
        "colab": {
          "base_uri": "https://localhost:8080/"
        },
        "outputId": "c9e777ce-3696-4e78-a254-0134df895564"
      },
      "execution_count": null,
      "outputs": [
        {
          "output_type": "stream",
          "name": "stdout",
          "text": [
            "not a valid age!\n"
          ]
        }
      ]
    },
    {
      "cell_type": "code",
      "source": [
        "name = \"ali\"\n",
        "age = -20\n",
        "\n",
        "if age < 0:\n",
        "  print(\"not a valid age!\")\n",
        "if age < 10 and not age < 0:\n",
        "  print(name , \"is a child\")\n",
        "if age < 30 and age > 10 :\n",
        "  print(name , \"is young\")\n",
        "if age < 50 and age > 30  :\n",
        "  print(name , \"is middle aged\")\n",
        "if age > 50:\n",
        "  print(name , \"is old\")"
      ],
      "metadata": {
        "id": "MXGH3DmfS0WG",
        "colab": {
          "base_uri": "https://localhost:8080/"
        },
        "outputId": "caaeb0da-e494-4a5a-e5e3-1115832e93ce"
      },
      "execution_count": null,
      "outputs": [
        {
          "output_type": "stream",
          "name": "stdout",
          "text": [
            "not a valid age!\n"
          ]
        }
      ]
    },
    {
      "cell_type": "markdown",
      "source": [
        "# Assignment \n",
        "Find if a number is even or odd\n"
      ],
      "metadata": {
        "id": "pRSfO-X3wW0x"
      }
    },
    {
      "cell_type": "code",
      "source": [
        "number = 10\n",
        "\n",
        "if number % 2 == 0 :\n",
        "  print(\"number is even\")\n",
        "if number % 2 == 1:\n",
        "  print(\"number is odd\")\n",
        "\n",
        "if number % 2 == 0 :\n",
        "  print(\"number is even\")\n",
        "  if number > 10 :\n",
        "      print(\"even and bigger than 10\")\n",
        "elif number % 2 == 1:\n",
        "  print(\"number is odd\")\n",
        "\n",
        "if number % 2 == 0 :\n",
        "  print(\"number is even\")\n",
        "else:\n",
        "  print(\"number is odd\")"
      ],
      "metadata": {
        "id": "_xbA0EjSPLXj",
        "colab": {
          "base_uri": "https://localhost:8080/"
        },
        "outputId": "59a9fe35-bba7-424a-daec-98ce60dc28ac"
      },
      "execution_count": null,
      "outputs": [
        {
          "output_type": "stream",
          "name": "stdout",
          "text": [
            "number is even\n",
            "number is even\n",
            "number is even\n"
          ]
        }
      ]
    },
    {
      "cell_type": "markdown",
      "source": [
        "**While Loop**\n",
        "\n"
      ],
      "metadata": {
        "id": "SUgPsf9mQMrN"
      }
    },
    {
      "cell_type": "code",
      "source": [
        "counter = 0 \n",
        "\n",
        "while counter <= 10 :\n",
        "  print(counter)\n",
        "  counter = counter + 1\n",
        "\n",
        "print(\"Loop is done!\")"
      ],
      "metadata": {
        "id": "bXlFeZ3MP0CN",
        "colab": {
          "base_uri": "https://localhost:8080/"
        },
        "outputId": "d5998634-5b7a-4e44-a22e-563beded7011"
      },
      "execution_count": null,
      "outputs": [
        {
          "output_type": "stream",
          "name": "stdout",
          "text": [
            "0\n",
            "1\n",
            "2\n",
            "3\n",
            "4\n",
            "5\n",
            "6\n",
            "7\n",
            "8\n",
            "9\n",
            "10\n",
            "Loop is done!\n"
          ]
        }
      ]
    },
    {
      "cell_type": "code",
      "source": [
        "counter = 0 \n",
        "\n",
        "while counter <= 10 :\n",
        "  if counter == 5 :\n",
        "    counter = counter + 1\n",
        "    continue\n",
        "  print(counter)\n",
        "  counter = counter + 1\n",
        "\n",
        "print(\"Loop is done!\")"
      ],
      "metadata": {
        "id": "3eNPhwueVzdi",
        "colab": {
          "base_uri": "https://localhost:8080/"
        },
        "outputId": "df4a6f7c-832a-48a2-c33c-f86171848ae4"
      },
      "execution_count": null,
      "outputs": [
        {
          "output_type": "stream",
          "name": "stdout",
          "text": [
            "0\n",
            "1\n",
            "2\n",
            "3\n",
            "4\n",
            "6\n",
            "7\n",
            "8\n",
            "9\n",
            "10\n",
            "Loop is done!\n"
          ]
        }
      ]
    },
    {
      "cell_type": "code",
      "source": [
        "counter = 0 \n",
        "\n",
        "while counter <= 10 :\n",
        "  if counter == 5:\n",
        "    break\n",
        "  print(counter)\n",
        "  counter = counter + 1\n",
        "\n",
        "print(\"Loop is done!\")"
      ],
      "metadata": {
        "id": "U35cYJx7WUAT"
      },
      "execution_count": null,
      "outputs": []
    },
    {
      "cell_type": "markdown",
      "source": [
        "**Assignment**\n",
        "\n",
        "find factorial of number n \n",
        "\n",
        "$n! = 1*2*...*n-1*n$"
      ],
      "metadata": {
        "id": "bq5xAdDaQV1N"
      }
    },
    {
      "cell_type": "markdown",
      "source": [
        "**functions**\n",
        "\n",
        "functions ==>  process - input - output\n",
        "\n",
        "\n",
        "\n",
        "*   Readability\n",
        "*   Reduce code duplication\n",
        "*   Hide implementation details\n",
        "\n"
      ],
      "metadata": {
        "id": "kRuBOLW4EhtS"
      }
    },
    {
      "cell_type": "code",
      "source": [
        "print(2)"
      ],
      "metadata": {
        "colab": {
          "base_uri": "https://localhost:8080/"
        },
        "id": "HRenM-ueMwTk",
        "outputId": "b30ba566-4662-44e6-a5df-73006c9d6dd3"
      },
      "execution_count": null,
      "outputs": [
        {
          "output_type": "stream",
          "name": "stdout",
          "text": [
            "2\n"
          ]
        }
      ]
    },
    {
      "cell_type": "markdown",
      "source": [
        "**built in functions**\n",
        "\n",
        "*   print() \n",
        "*   type()\n",
        "*   abs()\n",
        "\n",
        "*   int()\n",
        "*   str()\n",
        "*   float()"
      ],
      "metadata": {
        "id": "Jv2sFGMrqW75"
      }
    },
    {
      "cell_type": "code",
      "source": [
        "number = -5\n",
        "abs_number = abs(number)\n",
        "print( \"1.absolute number is : \" , abs_number )\n",
        "\n",
        "float_number = 56.5\n",
        "int_number = int(float_number)\n",
        "\n",
        "print( \"2.int number is :  \" , int_number ,type(int_number),type(float_number))\n",
        "\n",
        "str_number = \"134\"\n",
        "int_number = int(str_number)\n",
        "\n",
        "str__number = \"134.5\"\n",
        "#int_number = int(str_number) Wrong!\n",
        "int__number = int(float(str__number))\n",
        "print( \"3.int number is :  \" , int__number , type(int__number) , type(str__number))"
      ],
      "metadata": {
        "colab": {
          "base_uri": "https://localhost:8080/"
        },
        "id": "2-yfxG1gEwrH",
        "outputId": "7be39d89-e048-4d86-f53a-dfeabcd4378f"
      },
      "execution_count": null,
      "outputs": [
        {
          "output_type": "stream",
          "name": "stdout",
          "text": [
            "1.absolute number is :  5\n",
            "2.int number is :   56 <class 'int'> <class 'float'>\n",
            "3.int number is :   134 <class 'int'> <class 'str'>\n"
          ]
        }
      ]
    },
    {
      "cell_type": "code",
      "source": [
        "number = int(input(\"please enter a number \"))\n",
        "print(\"numebr plus 10 : \" , number + 10 )"
      ],
      "metadata": {
        "colab": {
          "base_uri": "https://localhost:8080/"
        },
        "id": "ACWakYgquf-3",
        "outputId": "1934a3ee-ff57-4c17-e116-f7537d1ef7cb"
      },
      "execution_count": null,
      "outputs": [
        {
          "output_type": "stream",
          "name": "stdout",
          "text": [
            "please enter a number 87\n",
            "numebr plus 10 :  97\n"
          ]
        }
      ]
    },
    {
      "cell_type": "markdown",
      "source": [
        "**Write Our Own Function**\n",
        "\n",
        "syntax\n",
        "\n",
        "*  function name\n",
        "*  inputs [optional]\n",
        "*  outputs [optional]"
      ],
      "metadata": {
        "id": "E7po8D3Fr7vu"
      }
    },
    {
      "cell_type": "code",
      "source": [
        "def func_name(input1,input2):\n",
        "  #do somthing\n",
        "  return None"
      ],
      "metadata": {
        "id": "RAcJn34_FbKT"
      },
      "execution_count": null,
      "outputs": []
    },
    {
      "cell_type": "code",
      "source": [
        "# write a sum function!\n",
        "def jam( a , b ):\n",
        "  print(\"jam function\")\n",
        "  z = a + b \n",
        "  return z\n",
        "\n",
        "#res = jam(9,3)\n",
        "\n",
        "#print(res)"
      ],
      "metadata": {
        "id": "CFGY3_VWxQdi"
      },
      "execution_count": null,
      "outputs": []
    },
    {
      "cell_type": "code",
      "source": [
        "def even_or_odd(number):\n",
        "  if number % 2 == 0:\n",
        "    print(\"number is even\")\n",
        "  else:\n",
        "    print(\"number is odd\")\n",
        "\n",
        "even_or_odd(12)\n"
      ],
      "metadata": {
        "id": "_-4LB94hsJns"
      },
      "execution_count": null,
      "outputs": []
    },
    {
      "cell_type": "code",
      "source": [
        "def is_even(number):\n",
        "  if number % 2 == 0:\n",
        "    return True\n",
        "  else:\n",
        "    return False \n",
        "\n",
        "res = is_even(15)\n",
        "print(res)"
      ],
      "metadata": {
        "id": "3dz1BHq2sdrD"
      },
      "execution_count": null,
      "outputs": []
    },
    {
      "cell_type": "code",
      "source": [
        "#Factorial\n",
        "def Factorial(number):\n",
        "  cnt = 1\n",
        "  res = 1 \n",
        "  while cnt <= number:\n",
        "    res = res * cnt \n",
        "    cnt = cnt + 1\n",
        "  return res \n",
        "\n",
        "result = Factorial(5)\n",
        "print(result)"
      ],
      "metadata": {
        "id": "t8RpYcOQtZq2"
      },
      "execution_count": null,
      "outputs": []
    },
    {
      "cell_type": "markdown",
      "source": [
        "# **Recursive**"
      ],
      "metadata": {
        "id": "Pa8akkosi3pF"
      }
    },
    {
      "cell_type": "code",
      "source": [
        "def jam(number):\n",
        "    if number == 1 :\n",
        "        return 1\n",
        "    else:\n",
        "        return number + jam(number - 1)\n",
        "\n",
        "res = jam(100)\n",
        "print(res)"
      ],
      "metadata": {
        "colab": {
          "base_uri": "https://localhost:8080/"
        },
        "id": "_NHDpbePi3G_",
        "outputId": "c775e577-6d6a-4796-9d58-0ef673075e70"
      },
      "execution_count": null,
      "outputs": [
        {
          "output_type": "stream",
          "name": "stdout",
          "text": [
            "5050\n"
          ]
        }
      ]
    },
    {
      "cell_type": "markdown",
      "source": [
        "**Built-in Data Types**\n",
        "\n",
        "\n",
        "\n",
        "1.  Immutable\n",
        "2.  Mutable\n",
        "\n",
        "\n",
        "\n",
        "\n",
        "*   List\n",
        "*   Tuple\n",
        "*   String\n",
        "*   Set\n",
        "*   Dictionaries\n",
        "\n",
        "\n",
        "\n",
        "**Lists:**\n",
        "\n"
      ],
      "metadata": {
        "id": "gaPIppXoDyZG"
      }
    },
    {
      "cell_type": "code",
      "source": [
        "student1 = \"ali\"\n",
        "student2 = \"ehsan\"\n",
        "student3 = \"zahra\"\n",
        "\n",
        "#lists\n",
        "students = [\"ali\" , \"ehsan\" , \"zahra\" ] \n",
        "\n",
        "print(type(students))\n",
        "print(students)\n",
        "print(students[0])\n",
        "print(students[1])\n",
        "print(students[0:2])\n"
      ],
      "metadata": {
        "colab": {
          "base_uri": "https://localhost:8080/"
        },
        "id": "Yx3uueeDETSA",
        "outputId": "f893c094-3cfe-4e2d-da4c-e1ead0a5cbed"
      },
      "execution_count": null,
      "outputs": [
        {
          "output_type": "stream",
          "name": "stdout",
          "text": [
            "<class 'list'>\n",
            "['ali', 'ehsan', 'zahra']\n",
            "ali\n",
            "ehsan\n",
            "['ali', 'ehsan']\n"
          ]
        }
      ]
    },
    {
      "cell_type": "markdown",
      "source": [
        "\n",
        "\n",
        "**Most common Functions**\n",
        "\n",
        "func(list)\n",
        "\n",
        "*   max\n",
        "*   sum\n",
        "*   min\n",
        "*   len\n",
        "\n",
        "\n"
      ],
      "metadata": {
        "id": "UivMDAyvEw-9"
      }
    },
    {
      "cell_type": "code",
      "source": [
        "numbers = [1,3,5]\n",
        "\n",
        "\n",
        "minimum = min(numbers)\n",
        "print(\"1.minimum value in the list is : \" , minimum)\n",
        "maximum = max(numbers)\n",
        "print(\"2.maximum value in the list is : \" , maximum)\n",
        "summation = sum(numbers)\n",
        "print(\"3.summation value in the list is : \" , summation)\n",
        "\n",
        "length = len(numbers)\n",
        "print(\"4.number of elements in the list : \" , length)\n"
      ],
      "metadata": {
        "colab": {
          "base_uri": "https://localhost:8080/"
        },
        "id": "q699PxekFlbo",
        "outputId": "9839d88c-6277-41e7-fcb2-e333aa1768db"
      },
      "execution_count": null,
      "outputs": [
        {
          "output_type": "stream",
          "name": "stdout",
          "text": [
            "1.minimum value in the list is :  1\n",
            "2.maximum value in the list is :  5\n",
            "3.summation value in the list is :  9\n",
            "4.number of elements in the list :  3\n"
          ]
        }
      ]
    },
    {
      "cell_type": "markdown",
      "source": [
        "# **List Methods**\n",
        "\n",
        "list.method()\n",
        "\n",
        "```python\n",
        "   append()\n",
        "   extend()\n",
        "   pop()\n",
        "```"
      ],
      "metadata": {
        "id": "lacjV5TClIZV"
      }
    },
    {
      "cell_type": "code",
      "source": [
        "numbers = [1,3,5]\n",
        "numbers.append([9,11])\n",
        "print(\"1. numbers: \" , numbers)\n",
        "\n",
        "numbers.extend([9,11])\n",
        "print(\"2. numbers: \" , numbers)\n",
        "\n",
        "numbers[4] = -2\n",
        "print(\"3. numbers: \" , numbers)\n",
        "\n"
      ],
      "metadata": {
        "colab": {
          "base_uri": "https://localhost:8080/"
        },
        "id": "bQbGN6cxiaKZ",
        "outputId": "2645b867-1a34-40f0-8ca9-a02c204602bb"
      },
      "execution_count": null,
      "outputs": [
        {
          "output_type": "stream",
          "name": "stdout",
          "text": [
            "1. numbers:  [1, 3, 5, [9, 11]]\n",
            "2. numbers:  [1, 3, 5, [9, 11], 9, 11]\n",
            "3. numbers:  [1, 3, 5, [9, 11], -2, 11]\n"
          ]
        }
      ]
    },
    {
      "cell_type": "code",
      "source": [
        "print(numbers.pop())\n",
        "\n",
        "print(numbers)"
      ],
      "metadata": {
        "colab": {
          "base_uri": "https://localhost:8080/"
        },
        "id": "KLiJ3t4PsR31",
        "outputId": "8f143682-d5b1-4476-d0b7-8e13602625b6"
      },
      "execution_count": null,
      "outputs": [
        {
          "output_type": "stream",
          "name": "stdout",
          "text": [
            "-2\n",
            "[1, 3, 5, [9, 11]]\n"
          ]
        }
      ]
    },
    {
      "cell_type": "markdown",
      "source": [
        "# **Tuples**\n",
        "\n",
        "Immutable"
      ],
      "metadata": {
        "id": "03H7z1pNk_Gd"
      }
    },
    {
      "cell_type": "code",
      "source": [
        "numbers = (1,3,5)\n",
        "\n",
        "print(\"1. numbers: \" , numbers)\n",
        "print(\"2. first element in numbers : \" , numbers[0])\n",
        "\n",
        "#Wrong numbers[0] = 5\n",
        "#Wrong numbers.append(7)\n"
      ],
      "metadata": {
        "colab": {
          "base_uri": "https://localhost:8080/"
        },
        "id": "X5NnWv8siq4S",
        "outputId": "ccff2bdb-24e0-400e-a718-932caa92aa8b"
      },
      "execution_count": null,
      "outputs": [
        {
          "output_type": "stream",
          "name": "stdout",
          "text": [
            "1. numbers:  (1, 3, 5)\n",
            "2. first element in numbers :  1\n",
            "5\n"
          ]
        }
      ]
    },
    {
      "cell_type": "markdown",
      "source": [
        "# **Strings**\n",
        "\n",
        "[string methods](https://www.w3schools.com/python/python_ref_string.asp)"
      ],
      "metadata": {
        "id": "TgrnJOdbkJki"
      }
    },
    {
      "cell_type": "code",
      "source": [
        "name = \"ali\"\n",
        "\n",
        "first_char = name[0]\n",
        "print(\"1. first character is : \" , first_char)\n",
        "\n",
        "print(\"2. last character is : \" , name[2] , name[-1])\n",
        "\n",
        "print(\"3. length of string is : \" , len(name))\n",
        "\n",
        "#Wrong name[0] = 'A'"
      ],
      "metadata": {
        "colab": {
          "base_uri": "https://localhost:8080/"
        },
        "id": "XMsce3SvjIGv",
        "outputId": "65b6d93e-f467-4aea-c2c3-a0bfc1266de7"
      },
      "execution_count": null,
      "outputs": [
        {
          "output_type": "stream",
          "name": "stdout",
          "text": [
            "1. first character is :  a\n",
            "2. last character is :  i i\n",
            "3. length of string is :  3\n"
          ]
        }
      ]
    },
    {
      "cell_type": "code",
      "source": [
        "number = input('enter numbers')\n",
        "numbers = number.split(' ') \n",
        "numbers.append('78')\n",
        "print(numbers)"
      ],
      "metadata": {
        "colab": {
          "base_uri": "https://localhost:8080/"
        },
        "id": "hQys3Dj8sp_f",
        "outputId": "c00f9b15-b2ac-48a8-c0e4-301b429ba3d7"
      },
      "execution_count": null,
      "outputs": [
        {
          "output_type": "stream",
          "name": "stdout",
          "text": [
            "enter numbers12 45 54\n",
            "['12', '45', '54', '78']\n"
          ]
        }
      ]
    },
    {
      "cell_type": "code",
      "source": [
        "numbers = ['12','45','54']\n",
        "'#'.join(numbers)"
      ],
      "metadata": {
        "colab": {
          "base_uri": "https://localhost:8080/",
          "height": 36
        },
        "id": "bL_Khlf8tzpZ",
        "outputId": "ef25bf43-f7fe-43d3-f29b-74e144ac3d07"
      },
      "execution_count": null,
      "outputs": [
        {
          "output_type": "execute_result",
          "data": {
            "text/plain": [
              "'12#45#54'"
            ],
            "application/vnd.google.colaboratory.intrinsic+json": {
              "type": "string"
            }
          },
          "metadata": {},
          "execution_count": 19
        }
      ]
    },
    {
      "cell_type": "markdown",
      "source": [
        "# **Set**\n",
        "\n",
        "[Set methods](https://www.w3schools.com/python/python_ref_set.asp)"
      ],
      "metadata": {
        "id": "L-Cu6H20lvm8"
      }
    },
    {
      "cell_type": "code",
      "source": [
        "my_set = {1,1,2,9} \n",
        "print(\"1. my set is : \" , my_set)\n",
        "\n",
        "my_set.add(4)\n",
        "print(\"2. my set is : \" , my_set)\n",
        "\n",
        "my_set.add(4)\n",
        "print(\"3. my set is : \" , my_set)\n",
        "\n",
        "my_set = set([1,2,1,3])\n",
        "\n",
        "print(\"4. my set is : \" , my_set)"
      ],
      "metadata": {
        "id": "nt0m7BVglyJ_"
      },
      "execution_count": null,
      "outputs": []
    },
    {
      "cell_type": "markdown",
      "source": [
        "# **Dictionaries**\n",
        "\n",
        "key - value ==> pairs\n",
        "\n",
        "```python\n",
        "my_dict = {\"key\":value}\n",
        "```\n",
        "\n",
        "[Dictionary methods](https://www.w3schools.com/python/python_ref_dictionary.asp)"
      ],
      "metadata": {
        "id": "UngF6mPhmwT_"
      }
    },
    {
      "cell_type": "code",
      "source": [
        "my_dict = { \"names\":[\"ali\",'amirali'] , \"age\":[24,26]  }\n",
        "my_list = ['ali',24]\n",
        "print(\"1. my dictionary is : \" , my_dict)\n",
        "\n",
        "print(\"2. name is : \" , my_dict['name'][0])\n",
        "\n",
        "print(\"3. age is : \" , my_dict['age'][0] )"
      ],
      "metadata": {
        "colab": {
          "base_uri": "https://localhost:8080/"
        },
        "id": "N8Lm-HVbnA92",
        "outputId": "6e993633-f249-401f-f170-9bea577c5408"
      },
      "execution_count": null,
      "outputs": [
        {
          "output_type": "stream",
          "name": "stdout",
          "text": [
            "1. my dictionary is :  {'name': 'ali', 'age': 24}\n",
            "2. name is :  ali\n",
            "3. age is :  24\n"
          ]
        }
      ]
    },
    {
      "cell_type": "markdown",
      "source": [
        "# **For loop**\n",
        "\n",
        "iterable \n",
        "\n",
        "```python\n",
        "for i in iterable:\n",
        "  pass\n",
        "```\n",
        "\n",
        "\n"
      ],
      "metadata": {
        "id": "SCBOggaZxw2Q"
      }
    },
    {
      "cell_type": "markdown",
      "source": [
        "# for loops with **strings**"
      ],
      "metadata": {
        "id": "gjaM1OyEwM8U"
      }
    },
    {
      "cell_type": "code",
      "source": [
        "print(\"1. for loop with strings: \\n\")\n",
        "for i in \"Hello\":\n",
        "  print(i)\n"
      ],
      "metadata": {
        "id": "WbVxYQqmxv6U",
        "colab": {
          "base_uri": "https://localhost:8080/"
        },
        "outputId": "d85d7fec-50b4-4915-fc8b-b0d4b2efb85e"
      },
      "execution_count": null,
      "outputs": [
        {
          "output_type": "stream",
          "name": "stdout",
          "text": [
            "1. for loop with strings: \n",
            "\n",
            "H\n",
            "e\n",
            "l\n",
            "l\n",
            "o\n"
          ]
        }
      ]
    },
    {
      "cell_type": "markdown",
      "source": [
        "# for loops with **lists** ,**tuples** , ..."
      ],
      "metadata": {
        "id": "f7VpoiKfyvO6"
      }
    },
    {
      "cell_type": "code",
      "source": [
        "print(\"2. for loop with lists: \\n\")\n",
        "for name in [\"ali\", \"ehsan\" , \"zahra\"]:\n",
        "  print(name)"
      ],
      "metadata": {
        "id": "q_EnNPGEyyAS",
        "colab": {
          "base_uri": "https://localhost:8080/"
        },
        "outputId": "502ca203-cee9-4a9f-e8bc-8d2978868897"
      },
      "execution_count": null,
      "outputs": [
        {
          "output_type": "stream",
          "name": "stdout",
          "text": [
            "2. for loop with lists: \n",
            "\n",
            "ali\n",
            "ehsan\n",
            "zahra\n"
          ]
        }
      ]
    },
    {
      "cell_type": "markdown",
      "source": [
        "# for loops iterable generators (**functions**)"
      ],
      "metadata": {
        "id": "Ve8vsyFfyyP3"
      }
    },
    {
      "cell_type": "code",
      "source": [
        "print(\"3. for loop with functions: \\n\")\n",
        "x = 2\n",
        "while x < 12:\n",
        "  x = x + 2 \n",
        "  \n",
        "for i in range(12): \n",
        "  print(i)"
      ],
      "metadata": {
        "id": "1jyKb8-UzENP",
        "colab": {
          "base_uri": "https://localhost:8080/"
        },
        "outputId": "38cd82f5-8ed8-461e-ca3e-bd3fc0341a5b"
      },
      "execution_count": null,
      "outputs": [
        {
          "output_type": "stream",
          "name": "stdout",
          "text": [
            "3. for loop with functions: \n",
            "\n",
            "0\n",
            "1\n",
            "2\n",
            "3\n",
            "4\n",
            "5\n",
            "6\n",
            "7\n",
            "8\n",
            "9\n",
            "10\n",
            "11\n"
          ]
        }
      ]
    },
    {
      "cell_type": "code",
      "source": [
        "# find divisors of a number\n",
        "\n",
        "def find_divisor(number):\n",
        "  res = []\n",
        "  for cnt in range(1,number+1):\n",
        "    if number % cnt == 0:\n",
        "      res.append(cnt)\n",
        "  return res\n",
        "\n",
        "num = int(input(\"please enter a number : \"))\n",
        "\n",
        "divisors = find_divisor(num)\n",
        "print( divisors )"
      ],
      "metadata": {
        "id": "kQHPjaGIzUkd",
        "colab": {
          "base_uri": "https://localhost:8080/"
        },
        "outputId": "3afbff33-222c-4988-ecbb-804180ee6b12"
      },
      "execution_count": null,
      "outputs": [
        {
          "output_type": "stream",
          "name": "stdout",
          "text": [
            "please enter a number : 21\n",
            "[1, 3, 7, 21]\n"
          ]
        }
      ]
    },
    {
      "cell_type": "code",
      "source": [
        "counter = 1\n",
        "while counter < 1000 :\n",
        "    if Isprime(counter):\n",
        "        print()\n",
        "    counter += 1"
      ],
      "metadata": {
        "id": "OVFVmbsJ6THs"
      },
      "execution_count": null,
      "outputs": []
    },
    {
      "cell_type": "markdown",
      "source": [
        "# **Packages**\n",
        "\n",
        "```python\n",
        "import packagename\n",
        "```\n",
        "\n",
        "built-in\n",
        "*   [math](https://docs.python.org/3/library/math.html)\n",
        "*   [random](https://docs.python.org/3/library/random.html)\n",
        "*   [time](https://docs.python.org/3/library/time.html)\n",
        "*   [os](https://docs.python.org/3/library/os.html)"
      ],
      "metadata": {
        "id": "MwVTTQP4kaSk"
      }
    },
    {
      "cell_type": "code",
      "source": [
        "import math\n",
        "\n",
        "num = -2\n",
        "res = math.fabs(num)\n",
        "print(f\"absolute value of {num} is : {res}\")\n",
        "\n"
      ],
      "metadata": {
        "id": "7tyKrXpeo-Bu",
        "colab": {
          "base_uri": "https://localhost:8080/"
        },
        "outputId": "cb65666b-5a18-4bb1-bdb7-19516db283df"
      },
      "execution_count": null,
      "outputs": [
        {
          "output_type": "stream",
          "name": "stdout",
          "text": [
            "absolute value of -2 is : 2.0\n"
          ]
        }
      ]
    },
    {
      "cell_type": "code",
      "source": [
        "num = -2\n",
        "\n",
        "import math as m \n",
        "res = m.fabs(num)\n",
        "print(f\"absolute value of {num} is : {res}\")\n",
        "\n",
        "from math import fabs as f\n",
        "res = f(num)\n",
        "print(f\"absolute value of {num} is : {res}\")\n",
        "\n",
        "from math import *\n",
        "res = fabs(num)\n",
        "print(f\"absolute value of {num} is : {res}\")"
      ],
      "metadata": {
        "id": "_hWkWAnh5s7B"
      },
      "execution_count": null,
      "outputs": []
    },
    {
      "cell_type": "code",
      "source": [
        "import math \n",
        "\n",
        "num = 5\n",
        "res = math.factorial(num)\n",
        "print(f\"factorial of {num} is : {res}\")\n",
        "\n",
        "num = 12\n",
        "num2 = 21\n",
        "res = math.gcd(num , num2)\n",
        "print(f\"gcd of {num} and {num2} is : {res}\")\n",
        "\n",
        "\n",
        "print(f\"pi number is : {math.pi}\")"
      ],
      "metadata": {
        "id": "k0QtWSQ35IHp"
      },
      "execution_count": null,
      "outputs": []
    },
    {
      "cell_type": "code",
      "source": [
        "import random\n",
        "\n",
        "num1 = 10\n",
        "num2 = 20\n",
        "rand_num = random.randint(num1,num2)\n",
        "print(f\"random number between  {num1} and {num2} is : {rand_num}\")\n",
        "\n",
        "names = [\"ali\",\"elnaz\",\"fateme\",\"kiarash\"]\n",
        "rand_name = random.choice(names)\n",
        "print(f\"random name in {names} sequence is : {rand_name}\")\n",
        "\n",
        "org_names = names.copy()\n",
        "random.shuffle(names)\n",
        "print(f\"shuffle of {org_names}  is : {names}\")\n"
      ],
      "metadata": {
        "id": "QbuUL_93thYP",
        "colab": {
          "base_uri": "https://localhost:8080/"
        },
        "outputId": "6862587f-a638-4860-b21d-8983fc805441"
      },
      "execution_count": null,
      "outputs": [
        {
          "output_type": "stream",
          "name": "stdout",
          "text": [
            "random number between  10 and 20 is : 11\n",
            "random name in ['ali', 'elnaz', 'fateme', 'kiarash'] sequence is : kiarash\n",
            "shuffle of ['ali', 'elnaz', 'fateme', 'kiarash']  is : ['kiarash', 'elnaz', 'ali', 'fateme']\n"
          ]
        }
      ]
    },
    {
      "cell_type": "code",
      "source": [
        "import time \n",
        "\n",
        "t0 = time.time()\n",
        "print(f\"t0 is : {t0}\")\n",
        "\n",
        "print(f\"\\ngm time is : {time.gmtime()}\")\n",
        "print(time.strftime(\"%a, %d %b %Y @-- %H:%M:%S\"))\n",
        "\n",
        "print(f\"\\ntime passed from 4 lines code above is : { time.time() - t0} seconds!\")"
      ],
      "metadata": {
        "id": "pIoYehhjumGa",
        "colab": {
          "base_uri": "https://localhost:8080/"
        },
        "outputId": "45cee966-044b-4cf0-9dd6-f4d33832375a"
      },
      "execution_count": null,
      "outputs": [
        {
          "output_type": "stream",
          "name": "stdout",
          "text": [
            "t0 is : 1662204422.5043344\n",
            "\n",
            "gm time is : time.struct_time(tm_year=2022, tm_mon=9, tm_mday=3, tm_hour=11, tm_min=27, tm_sec=2, tm_wday=5, tm_yday=246, tm_isdst=0)\n",
            "Sat, 03 Sep 2022 @-- 11:27:02\n",
            "\n",
            "time passed from 4 lines code above is : 0.002977132797241211 seconds!\n"
          ]
        }
      ]
    },
    {
      "cell_type": "code",
      "source": [
        "import os \n",
        "\n",
        "directory_list = os.listdir()\n",
        "print(f\"contents of the directory : {directory_list}\")\n",
        "\n",
        "directory_list = os.listdir(\"..\")\n",
        "print(f\"contents of the directory : {directory_list}\")\n",
        "\n",
        "os.mkdir(\"testdir\")\n",
        "directory_list = os.listdir()\n",
        "print(f\"contents of the directory : {directory_list}\")\n"
      ],
      "metadata": {
        "id": "TVdPzlsV1F9h",
        "colab": {
          "base_uri": "https://localhost:8080/"
        },
        "outputId": "f36595a2-15e8-49d8-c8e1-f5c4b19306fb"
      },
      "execution_count": null,
      "outputs": [
        {
          "output_type": "stream",
          "name": "stdout",
          "text": [
            "contents of the directory : ['.config', 'sample_data']\n",
            "contents of the directory : ['usr', 'home', 'sys', 'bin', 'mnt', 'proc', 'media', 'tmp', 'root', 'opt', 'etc', 'dev', 'var', 'lib', 'srv', 'sbin', 'lib64', 'run', 'boot', '.dockerenv', 'datalab', 'tools', 'content', 'python-apt', 'lib32', 'NGC-DL-CONTAINER-LICENSE']\n",
            "contents of the directory : ['.config', 'testdir', 'sample_data']\n"
          ]
        }
      ]
    },
    {
      "cell_type": "code",
      "source": [
        "os.rmdir(\"testdir\")\n",
        "directory_list = os.listdir()\n",
        "print(f\"contents of the directory : {directory_list}\")"
      ],
      "metadata": {
        "id": "9TWl7rh_4h-9"
      },
      "execution_count": null,
      "outputs": []
    },
    {
      "cell_type": "markdown",
      "source": [
        "# **Pip**\n",
        "using command:\n",
        "```bash\n",
        "pip install packagename\n",
        "```\n",
        "in **cmd** for windows or **terminal** in linux\n",
        "\n",
        "\n",
        "for colab:  \n",
        "```bash\n",
        "!pip install packagename\n",
        "```\n",
        "\n"
      ],
      "metadata": {
        "id": "tkQRUVyrOkWB"
      }
    },
    {
      "cell_type": "code",
      "source": [
        "!pip install requests"
      ],
      "metadata": {
        "colab": {
          "base_uri": "https://localhost:8080/"
        },
        "id": "vsDSjM37Okj2",
        "outputId": "7717c267-4c7c-401f-ce22-3759bbbb7ab1"
      },
      "execution_count": null,
      "outputs": [
        {
          "output_type": "stream",
          "name": "stdout",
          "text": [
            "Requirement already satisfied: requests in /usr/local/lib/python3.7/dist-packages (2.23.0)\n",
            "Requirement already satisfied: certifi>=2017.4.17 in /usr/local/lib/python3.7/dist-packages (from requests) (2021.10.8)\n",
            "Requirement already satisfied: chardet<4,>=3.0.2 in /usr/local/lib/python3.7/dist-packages (from requests) (3.0.4)\n",
            "Requirement already satisfied: idna<3,>=2.5 in /usr/local/lib/python3.7/dist-packages (from requests) (2.10)\n",
            "Requirement already satisfied: urllib3!=1.25.0,!=1.25.1,<1.26,>=1.21.1 in /usr/local/lib/python3.7/dist-packages (from requests) (1.24.3)\n"
          ]
        }
      ]
    },
    {
      "cell_type": "markdown",
      "source": [
        "# **zip, enumerate** "
      ],
      "metadata": {
        "id": "jgQpb16TJNdd"
      }
    },
    {
      "cell_type": "code",
      "source": [
        "names = ['ali','saman','amir','mohammad','reza']\n",
        "\n",
        "for name in names:\n",
        "    print(f'name is {name}')\n"
      ],
      "metadata": {
        "colab": {
          "base_uri": "https://localhost:8080/"
        },
        "id": "0gflRpzAb2fN",
        "outputId": "2e6c76e1-0b1a-48ac-989c-90d10a85b092"
      },
      "execution_count": null,
      "outputs": [
        {
          "output_type": "stream",
          "name": "stdout",
          "text": [
            "name is ali\n",
            "name is saman\n",
            "name is amir\n",
            "name is mohammad\n",
            "name is reza\n"
          ]
        }
      ]
    },
    {
      "cell_type": "code",
      "source": [
        "names = ['ali','saman','amir','mohammad','reza']\n",
        "\n",
        "for name_index in range(len(names)):\n",
        "    print(f'index of {names[name_index]} is {name_index}')"
      ],
      "metadata": {
        "colab": {
          "base_uri": "https://localhost:8080/"
        },
        "id": "_-ANvDcubuwM",
        "outputId": "fd0cfc1d-4199-483f-b2ef-7694c9856f94"
      },
      "execution_count": null,
      "outputs": [
        {
          "output_type": "stream",
          "name": "stdout",
          "text": [
            "index of ali is 0\n",
            "index of saman is 1\n",
            "index of amir is 2\n",
            "index of mohammad is 3\n",
            "index of reza is 4\n"
          ]
        }
      ]
    },
    {
      "cell_type": "code",
      "source": [
        "names = ['ali','saman','amir','mohammad','reza']\n",
        "\n",
        "for name_index , name in enumerate(names):\n",
        "    print(f'index of {name} is {name_index}')"
      ],
      "metadata": {
        "colab": {
          "base_uri": "https://localhost:8080/"
        },
        "id": "qsthX2HmcyGb",
        "outputId": "be81f4c2-9ca1-4c74-cdc0-53a0e107b80f"
      },
      "execution_count": null,
      "outputs": [
        {
          "output_type": "stream",
          "name": "stdout",
          "text": [
            "index of ali is 0\n",
            "index of saman is 1\n",
            "index of amir is 2\n",
            "index of mohammad is 3\n",
            "index of reza is 4\n"
          ]
        }
      ]
    },
    {
      "cell_type": "code",
      "source": [
        "names = ['ali','saman','amir']\n",
        "ages = [25,18,22]\n",
        "\n",
        "for name , age in zip(names,ages):\n",
        "    print(f'{name} is {age} years old')"
      ],
      "metadata": {
        "colab": {
          "base_uri": "https://localhost:8080/"
        },
        "id": "dM64WBUEbeo3",
        "outputId": "9e3b7e0a-74fb-426e-a74b-f43610b6f75a"
      },
      "execution_count": null,
      "outputs": [
        {
          "output_type": "stream",
          "name": "stdout",
          "text": [
            "ali is 25 years old\n",
            "saman is 18 years old\n",
            "amir is 22 years old\n"
          ]
        }
      ]
    },
    {
      "cell_type": "markdown",
      "source": [
        "# **map, filter, lambda(anonymous function)**"
      ],
      "metadata": {
        "id": "TSBYrXJ8fm_A"
      }
    },
    {
      "cell_type": "code",
      "source": [
        "def sqaure(x):\n",
        "    return x**2 \n",
        "\n",
        "map_obj = list(map(sqaure,[2,4,6,8]))\n",
        "list_map = list(map(sqaure,[1,2,3,4,5,6,7,8]))\n",
        "print(map_obj)\n",
        "print(list_map)"
      ],
      "metadata": {
        "colab": {
          "base_uri": "https://localhost:8080/"
        },
        "id": "D-_O6p6YeOH9",
        "outputId": "f66b2507-f504-4ec3-c315-023c3c8c7724"
      },
      "execution_count": null,
      "outputs": [
        {
          "output_type": "stream",
          "name": "stdout",
          "text": [
            "[4, 16, 36, 64]\n",
            "[1, 4, 9, 16, 25, 36, 49, 64]\n"
          ]
        }
      ]
    },
    {
      "cell_type": "code",
      "source": [
        "def even(x):\n",
        "    if x % 2 == 0 :\n",
        "        return True\n",
        "        \n",
        "list_filter = list(filter(even,[1,2,3,4,5,6,7,8]))\n",
        "print(list_filter)"
      ],
      "metadata": {
        "colab": {
          "base_uri": "https://localhost:8080/"
        },
        "id": "M5W1h0HrepkY",
        "outputId": "57099ac2-e1aa-4010-cb6b-d67398332bf8"
      },
      "execution_count": null,
      "outputs": [
        {
          "output_type": "stream",
          "name": "stdout",
          "text": [
            "[2, 4, 6, 8]\n"
          ]
        }
      ]
    },
    {
      "cell_type": "code",
      "source": [
        "num = []\n",
        "for i in [1,2,3,4,5,6,7,8] :\n",
        "    if i % 2 == 0:\n",
        "        num.append(i)\n",
        "print(num)"
      ],
      "metadata": {
        "colab": {
          "base_uri": "https://localhost:8080/"
        },
        "id": "z0ufTiuUHeL4",
        "outputId": "754b8c5c-9a08-47c5-e5f8-d75f4ef48a3d"
      },
      "execution_count": null,
      "outputs": [
        {
          "output_type": "stream",
          "name": "stdout",
          "text": [
            "[2, 4, 6, 8]\n"
          ]
        }
      ]
    },
    {
      "cell_type": "code",
      "source": [
        "list_map = [i**2 for i in [1,2,3,4,5,6,7,8] if i % 2 == 0 ]\n",
        "print(list_map)"
      ],
      "metadata": {
        "colab": {
          "base_uri": "https://localhost:8080/"
        },
        "id": "Nb8uNibm9T0N",
        "outputId": "b78bed82-3882-47e9-b8bc-58f87c6d5e68"
      },
      "execution_count": null,
      "outputs": [
        {
          "output_type": "stream",
          "name": "stdout",
          "text": [
            "[4, 16]\n"
          ]
        }
      ]
    },
    {
      "cell_type": "code",
      "source": [
        "list_map = list(map(lambda x:x**2,[1,2,3,4,5,6,7,8]))\n",
        "list_filter = list(filter(lambda x:x%2==0,[1,2,3,4,5,6,7,8]))\n",
        "print(list_map)\n",
        "print(list_filter)"
      ],
      "metadata": {
        "id": "2ECSWvXNe5p3",
        "colab": {
          "base_uri": "https://localhost:8080/"
        },
        "outputId": "4bcc919d-65db-4a4d-9942-d97c57754468"
      },
      "execution_count": null,
      "outputs": [
        {
          "output_type": "stream",
          "name": "stdout",
          "text": [
            "[1, 4, 9, 16, 25, 36, 49, 64]\n",
            "[2, 4, 6, 8]\n"
          ]
        }
      ]
    },
    {
      "cell_type": "markdown",
      "source": [
        "#  **args and kargs**"
      ],
      "metadata": {
        "id": "6CuvlSfZfvPO"
      }
    },
    {
      "cell_type": "code",
      "source": [
        "def sum_func(a=0,b=0):\n",
        "    return a+b\n",
        "\n",
        "print(sum_func(b=2,a=1))"
      ],
      "metadata": {
        "colab": {
          "base_uri": "https://localhost:8080/"
        },
        "id": "USQgIkI7nSIl",
        "outputId": "cbb7a2d3-4da3-414c-f24b-5a2c4c7742ff"
      },
      "execution_count": null,
      "outputs": [
        {
          "output_type": "stream",
          "name": "stdout",
          "text": [
            "3\n"
          ]
        }
      ]
    },
    {
      "cell_type": "code",
      "source": [
        "def sum_func(a,*args):\n",
        "    return args\n",
        "\n",
        "print(sum_func(2,3,4,5))"
      ],
      "metadata": {
        "colab": {
          "base_uri": "https://localhost:8080/"
        },
        "id": "atl9LNFjndw3",
        "outputId": "50c9c521-76f4-4f58-b281-09d23a470b69"
      },
      "execution_count": null,
      "outputs": [
        {
          "output_type": "stream",
          "name": "stdout",
          "text": [
            "(3, 4, 5)\n"
          ]
        }
      ]
    },
    {
      "cell_type": "code",
      "source": [
        "def sum_func(*args):\n",
        "    print(args[2:4])\n",
        "    res = 0\n",
        "    for i in args:\n",
        "        res += i\n",
        "    return res\n",
        "\n",
        "print(sum_func(2,3,4,5,6,7))"
      ],
      "metadata": {
        "colab": {
          "base_uri": "https://localhost:8080/"
        },
        "id": "0g2lp6i7nkdz",
        "outputId": "1901d996-3544-4a9d-a000-34f5f141887d"
      },
      "execution_count": null,
      "outputs": [
        {
          "output_type": "stream",
          "name": "stdout",
          "text": [
            "(4, 5)\n",
            "27\n"
          ]
        }
      ]
    },
    {
      "cell_type": "code",
      "source": [
        "def sum_func(*numbers):\n",
        "    print(numbers[-2:-4:-1])\n",
        "    res = 0\n",
        "    for i in numbers:\n",
        "        res += i\n",
        "    return res\n",
        "\n",
        "print(sum_func(2,3,4,5,6))"
      ],
      "metadata": {
        "colab": {
          "base_uri": "https://localhost:8080/"
        },
        "id": "SnuA0vGunyW6",
        "outputId": "e8546e91-889c-42df-d24c-fed352207441"
      },
      "execution_count": null,
      "outputs": [
        {
          "output_type": "stream",
          "name": "stdout",
          "text": [
            "(5, 4)\n",
            "20\n"
          ]
        }
      ]
    },
    {
      "cell_type": "code",
      "source": [
        "def sum_func(**kargs):\n",
        "    print(kargs)\n",
        "    print(f'{kargs[\"name\"]} is {kargs[\"age\"]} years old.')\n",
        "\n",
        "\n",
        "\n",
        "sum_func(name='ali',age = 25,gender='M')"
      ],
      "metadata": {
        "colab": {
          "base_uri": "https://localhost:8080/"
        },
        "id": "OqMIQR91n6BO",
        "outputId": "b15b9b76-7eb1-4ee5-b811-22e228a6840c"
      },
      "execution_count": null,
      "outputs": [
        {
          "output_type": "stream",
          "name": "stdout",
          "text": [
            "{'name': 'ali', 'age': 25, 'gender': 'M'}\n",
            "ali is 25 years old.\n"
          ]
        }
      ]
    },
    {
      "cell_type": "markdown",
      "source": [
        "# **try except**\n",
        "\n",
        "\n",
        "**Errors**\n",
        "*   runtime\n",
        "*   syntax\n",
        "*   logical\n",
        "\n",
        "\n"
      ],
      "metadata": {
        "id": "lFCAxT-pow17"
      }
    },
    {
      "cell_type": "code",
      "source": [
        "print(12/0)"
      ],
      "metadata": {
        "colab": {
          "base_uri": "https://localhost:8080/",
          "height": 174
        },
        "id": "NVzZZKASo293",
        "outputId": "de2482b1-25f3-4ace-f952-2c5de0f5daa3"
      },
      "execution_count": null,
      "outputs": [
        {
          "output_type": "error",
          "ename": "ZeroDivisionError",
          "evalue": "ignored",
          "traceback": [
            "\u001b[0;31m---------------------------------------------------------------------------\u001b[0m",
            "\u001b[0;31mZeroDivisionError\u001b[0m                         Traceback (most recent call last)",
            "\u001b[0;32m<ipython-input-31-bb239b366562>\u001b[0m in \u001b[0;36m<module>\u001b[0;34m()\u001b[0m\n\u001b[0;32m----> 1\u001b[0;31m \u001b[0mprint\u001b[0m\u001b[0;34m(\u001b[0m\u001b[0;36m12\u001b[0m\u001b[0;34m/\u001b[0m\u001b[0;36m0\u001b[0m\u001b[0;34m)\u001b[0m\u001b[0;34m\u001b[0m\u001b[0;34m\u001b[0m\u001b[0m\n\u001b[0m",
            "\u001b[0;31mZeroDivisionError\u001b[0m: division by zero"
          ]
        }
      ]
    },
    {
      "cell_type": "code",
      "source": [
        "print(a_value)"
      ],
      "metadata": {
        "colab": {
          "base_uri": "https://localhost:8080/",
          "height": 174
        },
        "id": "E-f7SF0kpKTI",
        "outputId": "cfe967c0-a1fa-44fa-bcce-2e4373c3c888"
      },
      "execution_count": null,
      "outputs": [
        {
          "output_type": "error",
          "ename": "NameError",
          "evalue": "ignored",
          "traceback": [
            "\u001b[0;31m---------------------------------------------------------------------------\u001b[0m",
            "\u001b[0;31mNameError\u001b[0m                                 Traceback (most recent call last)",
            "\u001b[0;32m<ipython-input-32-95e8f09792f9>\u001b[0m in \u001b[0;36m<module>\u001b[0;34m()\u001b[0m\n\u001b[0;32m----> 1\u001b[0;31m \u001b[0mprint\u001b[0m\u001b[0;34m(\u001b[0m\u001b[0ma_value\u001b[0m\u001b[0;34m)\u001b[0m\u001b[0;34m\u001b[0m\u001b[0;34m\u001b[0m\u001b[0m\n\u001b[0m",
            "\u001b[0;31mNameError\u001b[0m: name 'a_value' is not defined"
          ]
        }
      ]
    },
    {
      "cell_type": "code",
      "source": [
        "number = '2'**2\n",
        "print(number)"
      ],
      "metadata": {
        "colab": {
          "base_uri": "https://localhost:8080/",
          "height": 193
        },
        "id": "Gys8FcbMpNmQ",
        "outputId": "660250e0-d581-4d92-bd1b-56a712ae5b71"
      },
      "execution_count": null,
      "outputs": [
        {
          "output_type": "error",
          "ename": "TypeError",
          "evalue": "ignored",
          "traceback": [
            "\u001b[0;31m---------------------------------------------------------------------------\u001b[0m",
            "\u001b[0;31mTypeError\u001b[0m                                 Traceback (most recent call last)",
            "\u001b[0;32m<ipython-input-34-d2a407f7b861>\u001b[0m in \u001b[0;36m<module>\u001b[0;34m()\u001b[0m\n\u001b[0;32m----> 1\u001b[0;31m \u001b[0mnumber\u001b[0m \u001b[0;34m=\u001b[0m \u001b[0;34m'2'\u001b[0m\u001b[0;34m**\u001b[0m\u001b[0;36m2\u001b[0m\u001b[0;34m\u001b[0m\u001b[0;34m\u001b[0m\u001b[0m\n\u001b[0m\u001b[1;32m      2\u001b[0m \u001b[0mprint\u001b[0m\u001b[0;34m(\u001b[0m\u001b[0mnumber\u001b[0m\u001b[0;34m)\u001b[0m\u001b[0;34m\u001b[0m\u001b[0;34m\u001b[0m\u001b[0m\n",
            "\u001b[0;31mTypeError\u001b[0m: unsupported operand type(s) for ** or pow(): 'str' and 'int'"
          ]
        }
      ]
    },
    {
      "cell_type": "code",
      "source": [
        "try:\n",
        "    print(12/0)\n",
        "except:\n",
        "    print('execption occured!')"
      ],
      "metadata": {
        "colab": {
          "base_uri": "https://localhost:8080/"
        },
        "id": "lJqhN_sZpVG0",
        "outputId": "e9a217b1-5b8b-4e65-a37b-911cdda74777"
      },
      "execution_count": null,
      "outputs": [
        {
          "output_type": "stream",
          "name": "stdout",
          "text": [
            "execption occured!\n"
          ]
        }
      ]
    },
    {
      "cell_type": "code",
      "source": [
        "try:\n",
        "    print(12/a_value)\n",
        "except Exception as e:\n",
        "    print('execption occured!',e)"
      ],
      "metadata": {
        "colab": {
          "base_uri": "https://localhost:8080/"
        },
        "id": "0gvbbjPwpcN3",
        "outputId": "7d957c1c-0bfd-4307-cff6-eee54ee07884"
      },
      "execution_count": null,
      "outputs": [
        {
          "output_type": "stream",
          "name": "stdout",
          "text": [
            "execption occured! name 'a_value' is not defined\n"
          ]
        }
      ]
    },
    {
      "cell_type": "code",
      "source": [
        "try:\n",
        "    print(12/a_value)\n",
        "except ZeroDivisionError:\n",
        "    print(12/0.001)\n",
        "except TypeError:\n",
        "    print('type execption occured!')\n",
        "except NameError:\n",
        "    print('name execption occured!')"
      ],
      "metadata": {
        "id": "qLGnrluXpmdx",
        "colab": {
          "base_uri": "https://localhost:8080/"
        },
        "outputId": "f8a02aaf-8e49-424a-b041-fc0a9f51cf7a"
      },
      "execution_count": null,
      "outputs": [
        {
          "output_type": "stream",
          "name": "stdout",
          "text": [
            "name execption occured!\n"
          ]
        }
      ]
    },
    {
      "cell_type": "markdown",
      "source": [
        "# **OOP, Class, Objects![oop.png](data:image/png;base64,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)**"
      ],
      "metadata": {
        "id": "TeZuw9_np2Br"
      }
    },
    {
      "cell_type": "code",
      "source": [
        "class Car:\n",
        "    pass\n",
        "\n",
        "ford = Car()\n",
        "\n",
        "print(ford)"
      ],
      "metadata": {
        "colab": {
          "base_uri": "https://localhost:8080/"
        },
        "id": "K2cnS9dIp9ZD",
        "outputId": "b11ff502-9ed0-4d95-e603-5816e21a3812"
      },
      "execution_count": null,
      "outputs": [
        {
          "output_type": "stream",
          "name": "stdout",
          "text": [
            "<__main__.Car object at 0x7f0a92ea3f50>\n"
          ]
        }
      ]
    },
    {
      "cell_type": "code",
      "source": [
        "class Car:\n",
        "    def __init__(self):\n",
        "        self.color = ''\n",
        "        self.year = 0\n",
        "\n",
        "ford = Car()\n",
        "print(ford.color,ford.year)\n",
        "\n",
        "ford.color = 'red'\n",
        "ford.year = 2016\n",
        "print(ford.color,ford.year)\n"
      ],
      "metadata": {
        "colab": {
          "base_uri": "https://localhost:8080/"
        },
        "id": "pFZ7tGO9vLay",
        "outputId": "300036a1-f670-4c41-c8e3-d5e1be9a7802"
      },
      "execution_count": null,
      "outputs": [
        {
          "output_type": "stream",
          "name": "stdout",
          "text": [
            " 0\n",
            "red 2016\n"
          ]
        }
      ]
    },
    {
      "cell_type": "code",
      "source": [
        "class Car:   \n",
        "    def __init__(self,color,year):\n",
        "        self.color = color\n",
        "        self.year = year\n",
        "    \n",
        "    def set_year(self,year):\n",
        "        self.year = year\n",
        "    \n",
        "    def cal_age(self):\n",
        "        origin = 1990\n",
        "        return self.year - origin\n",
        "\n",
        "ford = Car('red',2016)\n",
        "print(ford.color,ford.year)\n",
        "\n",
        "ford.color = 'white'\n",
        "#ford.year = 2022\n",
        "ford.set_year(2022)\n",
        "age = ford.cal_age()\n",
        "print(ford.color,ford.year,age)\n",
        "\n",
        "\n",
        "honda = Car('yellow',2020)\n",
        "print(honda.color,honda.year)"
      ],
      "metadata": {
        "colab": {
          "base_uri": "https://localhost:8080/"
        },
        "id": "jr7McSx8wS3b",
        "outputId": "4b22f6fa-f1cd-493c-e25b-ca2fe6dc966c"
      },
      "execution_count": null,
      "outputs": [
        {
          "output_type": "stream",
          "name": "stdout",
          "text": [
            "red 2016\n",
            "white 2022 32\n",
            "yellow 2020\n"
          ]
        }
      ]
    },
    {
      "cell_type": "code",
      "source": [
        "class Dog:\n",
        "    def __init__(self,sound):\n",
        "        self.sound = sound\n",
        "    def makeSound(self):\n",
        "        print(self.sound)\n",
        "    def printInfo(self):\n",
        "        print(\"I am a dog.\")\n",
        "\n",
        "sam = Dog('bark')\n",
        "sam.makeSound()\n",
        "sam.printInfo()"
      ],
      "metadata": {
        "colab": {
          "base_uri": "https://localhost:8080/"
        },
        "id": "00Etf1trxWWG",
        "outputId": "8ac13ff3-36b6-40e9-8b5f-69cdf7055cae"
      },
      "execution_count": null,
      "outputs": [
        {
          "output_type": "stream",
          "name": "stdout",
          "text": [
            "bark\n",
            "I am a dog.\n"
          ]
        }
      ]
    },
    {
      "cell_type": "code",
      "source": [
        "class Bus(Car):\n",
        "    pass\n",
        "\n",
        "school_bus = Bus('black',2001)\n",
        "print(school_bus.color,school_bus.year)"
      ],
      "metadata": {
        "colab": {
          "base_uri": "https://localhost:8080/"
        },
        "id": "ziAnK2FFwy9h",
        "outputId": "eef7f828-456d-45dd-d9f4-12b0082c983f"
      },
      "execution_count": null,
      "outputs": [
        {
          "output_type": "stream",
          "name": "stdout",
          "text": [
            "black 2001\n"
          ]
        }
      ]
    },
    {
      "cell_type": "markdown",
      "source": [
        "# **OOP Exercise 1**\n",
        "Create a Class with instance attributes\n",
        "Write a Python program to create a Vehicle class with ```max_speed``` and ```mileage``` instance attributes."
      ],
      "metadata": {
        "id": "AIqWe_tJx5Tf"
      }
    },
    {
      "cell_type": "markdown",
      "source": [
        "# **OOP Exercise 2**\n",
        "\n",
        "Create a Bus object that will inherit all of the variables and methods of the parent Vehicle class and display it."
      ],
      "metadata": {
        "id": "vQhwyGH_yNGn"
      }
    },
    {
      "cell_type": "markdown",
      "source": [
        "# **OOP Exercise 3**\n",
        "\n",
        "Create a Bus class that inherits from the Vehicle class. Give the ```capacity``` variable of ```Bus.seating_capacity()``` a value of 50. (how to have a default variable as 25?)"
      ],
      "metadata": {
        "id": "koc5BK0ZykYN"
      }
    },
    {
      "cell_type": "code",
      "source": [],
      "metadata": {
        "id": "x7nb0G4RQSKZ"
      },
      "execution_count": null,
      "outputs": []
    },
    {
      "cell_type": "markdown",
      "source": [
        "# **Numpy**\n",
        "\n",
        "Easy and Fast For calculations over arrays\n",
        "\n",
        "[Documentation](https://numpy.org/)\n",
        "\n",
        "[DataCamp](https://datacamp.com)"
      ],
      "metadata": {
        "id": "QgACP9fP3FUA"
      }
    },
    {
      "cell_type": "code",
      "source": [
        "import numpy as np\n",
        "\n",
        "height = [1.73,1.80,1.85,1.92,1.75]\n",
        "weight = [68,85,95,98,75]\n",
        "# weight / height ** 2 Wrong!\n",
        "\n",
        "numpy_height = np.array(height)\n",
        "print(f\"numpy_height is : {numpy_height}\")\n",
        "\n",
        "numpy_weight = np.array(weight)\n",
        "print(f\"numpy_weight is : {numpy_weight}\")\n",
        "\n",
        "numpy_bmi = numpy_weight / numpy_height ** 2\n",
        "print(f\"numpy_bmi is : {numpy_bmi}\")"
      ],
      "metadata": {
        "colab": {
          "base_uri": "https://localhost:8080/"
        },
        "id": "vuvw4w0j3p05",
        "outputId": "3278b834-0178-4d4d-9488-4a947c0c619b"
      },
      "execution_count": null,
      "outputs": [
        {
          "output_type": "stream",
          "name": "stdout",
          "text": [
            "numpy_height is : [1.73 1.8  1.85 1.92 1.75]\n",
            "numpy_weight is : [68 85 95 98 75]\n",
            "numpy_bmi is : [22.72043837 26.2345679  27.75748722 26.58420139 24.48979592]\n"
          ]
        }
      ]
    },
    {
      "cell_type": "markdown",
      "source": [
        "**Numpy array contain Only one Type**"
      ],
      "metadata": {
        "id": "SSqjPEAUfBtr"
      }
    },
    {
      "cell_type": "code",
      "source": [
        "numpy_array = np.array([1,'ali',True])\n",
        "print(f\"numpy_array is : {numpy_array}\")\n"
      ],
      "metadata": {
        "colab": {
          "base_uri": "https://localhost:8080/"
        },
        "id": "mF3CUpaueiJp",
        "outputId": "3c94acf5-0820-49e4-ffaf-c65c4f77093a"
      },
      "execution_count": null,
      "outputs": [
        {
          "output_type": "stream",
          "name": "stdout",
          "text": [
            "numpy_array is : ['1' 'ali' 'True']\n"
          ]
        }
      ]
    },
    {
      "cell_type": "code",
      "source": [
        "print(f\"numpy_bmi is : {numpy_bmi}\")\n",
        "\n",
        "print(f\"numpy_bmi first element is : {numpy_bmi[0]}\")\n",
        "\n",
        "print(f\"numpy_bmi first three elements are : {numpy_bmi[:3]}\")\n",
        "\n",
        "numpy_random = np.array([True,False,True,False,True])\n",
        "print(f\"numpy_bmi randomly True and False : {numpy_bmi[numpy_random]}\")\n",
        "\n",
        "numpy_gt = numpy_bmi > 26.5\n",
        "print(f\"numpy_bmi True and False for elements greater than 26.5  : {numpy_gt}\")\n",
        "print(f\"numpy_bmi elements greater than 26.5 are : {numpy_bmi[numpy_gt]}\")"
      ],
      "metadata": {
        "colab": {
          "base_uri": "https://localhost:8080/"
        },
        "id": "omzLJ4L7fM6s",
        "outputId": "0f790ae0-00fa-4a90-ce79-7dd165bf3fde"
      },
      "execution_count": null,
      "outputs": [
        {
          "output_type": "stream",
          "name": "stdout",
          "text": [
            "numpy_bmi is : [22.72043837 26.2345679  27.75748722 26.58420139 24.48979592]\n",
            "numpy_bmi first element is : 22.720438370810918\n",
            "numpy_bmi first three elements are : [22.72043837 26.2345679  27.75748722]\n",
            "numpy_bmi randomly True and False : [22.72043837 27.75748722 24.48979592]\n",
            "numpy_bmi True and False for elements greater than 26.5  : [False False  True  True False]\n",
            "numpy_bmi elements greater than 26.5 are : [27.75748722 26.58420139]\n"
          ]
        }
      ]
    },
    {
      "cell_type": "code",
      "source": [
        "#list_2d = [ [1,2,3],[4,5,6],[7,8,9] ]\n",
        "#numpy_2d = np.array(list_2d)\n",
        "\n",
        "numpy_1d = np.arange(1,10)\n",
        "print(f\"numpy_1d is : {numpy_1d}\")\n",
        "\n",
        "numpy_2d = numpy_1d.reshape(3,3)\n",
        "print(f\"numpy_2d is : {numpy_2d}\")\n",
        "\n",
        "print(f\"shape is : {numpy_2d.shape} row , col\") \n",
        "\n",
        "print(f\"first row is : {numpy_2d[0]}\")\n",
        "print(f\"first col of first row is : {numpy_2d[0][0]} or {numpy_2d[0 ,0]}\")\n",
        "\n",
        "print(f\"first col is : {numpy_2d[: ,0]}\")"
      ],
      "metadata": {
        "colab": {
          "base_uri": "https://localhost:8080/"
        },
        "id": "aKq69QzfrNY5",
        "outputId": "072f0871-0bf2-400b-b14c-c38b53c10fdb"
      },
      "execution_count": null,
      "outputs": [
        {
          "output_type": "stream",
          "name": "stdout",
          "text": [
            "numpy_1d is : [1 2 3 4 5 6 7 8 9]\n",
            "numpy_2d is : [[1 2 3]\n",
            " [4 5 6]\n",
            " [7 8 9]]\n",
            "shape is : (3, 3) row , col\n",
            "first row is : [1 2 3]\n",
            "first col of first row is : 1 or 1\n",
            "first col is : [1 4 7]\n"
          ]
        }
      ]
    }
  ],
  "metadata": {
    "colab": {
      "provenance": [],
      "collapsed_sections": []
    },
    "kernelspec": {
      "display_name": "Python 3",
      "name": "python3"
    },
    "language_info": {
      "name": "python"
    }
  },
  "nbformat": 4,
  "nbformat_minor": 0
}